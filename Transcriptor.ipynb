{
 "cells": [
  {
   "cell_type": "markdown",
   "id": "be157dbf",
   "metadata": {},
   "source": [
    "# Transcription Factor Classifier"
   ]
  },
  {
   "cell_type": "code",
   "execution_count": 1,
   "id": "3633c061",
   "metadata": {},
   "outputs": [],
   "source": [
    "from nn.io import read_text_file\n",
    "from nn.io import read_fasta_file\n",
    "from nn.preprocess import sample_seqs\n",
    "import numpy as np\n",
    "from nn.nn import NeuralNetwork\n"
   ]
  },
  {
   "cell_type": "markdown",
   "id": "907243d1",
   "metadata": {},
   "source": [
    "Use the 'read_text_file' function from preprocess.py to read in the 137 positive Rap1 motif examples"
   ]
  },
  {
   "cell_type": "code",
   "execution_count": 2,
   "id": "f86afd72",
   "metadata": {},
   "outputs": [],
   "source": [
    "rap1_postive = read_text_file(\"data/rap1-lieb-positives.txt\")"
   ]
  },
  {
   "cell_type": "markdown",
   "id": "65748670",
   "metadata": {},
   "source": [
    "Use the 'read_fasta_file' function to read in all the negative examples from all 1kb upstream in yeast."
   ]
  },
  {
   "cell_type": "code",
   "execution_count": 3,
   "id": "1bf87d42",
   "metadata": {},
   "outputs": [],
   "source": [
    "rap1_negative = read_text_file(\"data/yeast-upstream-1k-negative.fa\")"
   ]
  },
  {
   "cell_type": "code",
   "execution_count": 4,
   "id": "0a51cdbb",
   "metadata": {},
   "outputs": [
    {
     "data": {
      "text/plain": [
       "56908"
      ]
     },
     "execution_count": 4,
     "metadata": {},
     "output_type": "execute_result"
    }
   ],
   "source": [
    "## exploring the data \n",
    "len(rap1_postive[1]) ## each sequence has 17 \n",
    "len(rap1_negative[1]) ## For the naegative they have 60 nucleotides\n",
    "len(rap1_postive) ## 137 sequences in total \n",
    "len(rap1_negative) ## 56908 sequences in total "
   ]
  },
  {
   "cell_type": "markdown",
   "id": "3702f9d8",
   "metadata": {},
   "source": [
    "Implement a sampling scheme in the 'sample_seq' function in the preprocess.py file"
   ]
  },
  {
   "cell_type": "code",
   "execution_count": 5,
   "id": "408a843a",
   "metadata": {},
   "outputs": [],
   "source": [
    "sampled_seqs,sampled_labels = sample_seqs(rap1_postive,rap1_negative)"
   ]
  },
  {
   "cell_type": "markdown",
   "id": "b048cac4",
   "metadata": {},
   "source": [
    "Explain in your jupyter notebook why chose the sampling scheme that you did.\n",
    "\n",
    "*Answer*: I decided to use the following sample scheme. First I sub-sample the negative sequences, I settled on keeping a radio 1:3, given that we should't have a extreme imbalance in the classification of our sequences but we still want sufficient information. Finally I wanted to have a standart input so I resolved on all my sequences being 17 nucleotides (the len of the positive seqs)"
   ]
  },
  {
   "cell_type": "markdown",
   "id": "758a0742",
   "metadata": {},
   "source": [
    "Generate a training and a validation set for training your classifier."
   ]
  },
  {
   "cell_type": "code",
   "execution_count": null,
   "id": "8929895a",
   "metadata": {},
   "outputs": [],
   "source": []
  },
  {
   "cell_type": "code",
   "execution_count": null,
   "id": "85437e78",
   "metadata": {},
   "outputs": [],
   "source": []
  },
  {
   "cell_type": "code",
   "execution_count": null,
   "id": "b3c75aac",
   "metadata": {},
   "outputs": [],
   "source": []
  }
 ],
 "metadata": {
  "kernelspec": {
   "display_name": "Python 3",
   "language": "python",
   "name": "python3"
  },
  "language_info": {
   "codemirror_mode": {
    "name": "ipython",
    "version": 3
   },
   "file_extension": ".py",
   "mimetype": "text/x-python",
   "name": "python",
   "nbconvert_exporter": "python",
   "pygments_lexer": "ipython3",
   "version": "3.8.8"
  }
 },
 "nbformat": 4,
 "nbformat_minor": 5
}
