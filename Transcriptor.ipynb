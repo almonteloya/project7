{
 "cells": [
  {
   "cell_type": "markdown",
   "id": "be157dbf",
   "metadata": {},
   "source": [
    "# Transcription Factor Classifier"
   ]
  },
  {
   "cell_type": "code",
   "execution_count": 1,
   "id": "3633c061",
   "metadata": {},
   "outputs": [],
   "source": [
    "from nn.io import read_text_file\n",
    "from nn.io import read_fasta_file\n",
    "from nn.preprocess import sample_seqs\n",
    "from nn.preprocess import one_hot_encode_seqs\n",
    "import numpy as np\n",
    "from nn.nn import NeuralNetwork\n",
    "from sklearn.model_selection import train_test_split\n",
    "import matplotlib.pyplot as plt"
   ]
  },
  {
   "cell_type": "markdown",
   "id": "907243d1",
   "metadata": {},
   "source": [
    "### Use the 'read_text_file' function from preprocess.py to read in the 137 positive Rap1 motif examples"
   ]
  },
  {
   "cell_type": "code",
   "execution_count": 2,
   "id": "f86afd72",
   "metadata": {},
   "outputs": [],
   "source": [
    "rap1_postive = read_text_file(\"data/rap1-lieb-positives.txt\")"
   ]
  },
  {
   "cell_type": "markdown",
   "id": "65748670",
   "metadata": {},
   "source": [
    "### Use the 'read_fasta_file' function to read in all the negative examples from all 1kb upstream in yeast."
   ]
  },
  {
   "cell_type": "code",
   "execution_count": 3,
   "id": "1bf87d42",
   "metadata": {},
   "outputs": [],
   "source": [
    "rap1_negative = read_text_file(\"data/yeast-upstream-1k-negative.fa\")"
   ]
  },
  {
   "cell_type": "code",
   "execution_count": 4,
   "id": "0a51cdbb",
   "metadata": {},
   "outputs": [
    {
     "data": {
      "text/plain": [
       "56908"
      ]
     },
     "execution_count": 4,
     "metadata": {},
     "output_type": "execute_result"
    }
   ],
   "source": [
    "## exploring the data \n",
    "len(rap1_postive[1]) ## each sequence has 17 \n",
    "len(rap1_negative[1]) ## For the naegative they have 60 nucleotides\n",
    "len(rap1_postive) ## 137 sequences in total \n",
    "len(rap1_negative) ## 56908 sequences in total "
   ]
  },
  {
   "cell_type": "markdown",
   "id": "3702f9d8",
   "metadata": {},
   "source": [
    "### Implement a sampling scheme in the 'sample_seq' function in the preprocess.py file"
   ]
  },
  {
   "cell_type": "code",
   "execution_count": 5,
   "id": "408a843a",
   "metadata": {},
   "outputs": [],
   "source": [
    "sampled_seqs,sampled_labels = sample_seqs(rap1_postive,rap1_negative)"
   ]
  },
  {
   "cell_type": "markdown",
   "id": "b048cac4",
   "metadata": {},
   "source": [
    "### Explain in your jupyter notebook why chose the sampling scheme that you did.\n",
    "\n",
    "*Answer*: I decided to use the following sample scheme. First I sub-sample the negative sequences, I settled on keeping a radio 1:3, given that we should't have a extreme imbalance in the classification of our sequences but we still want sufficient information. Finally I wanted to have a standart input so I resolved on all my sequences being 17 nucleotides (the len of the positive seqs)"
   ]
  },
  {
   "cell_type": "markdown",
   "id": "758a0742",
   "metadata": {},
   "source": [
    "### Generate a training and a validation set for training your classifier."
   ]
  },
  {
   "cell_type": "code",
   "execution_count": 6,
   "id": "8929895a",
   "metadata": {},
   "outputs": [],
   "source": [
    "X_train, X_test, y_train, y_test = train_test_split(sampled_seqs, sampled_labels, test_size=0.33, random_state=2)"
   ]
  },
  {
   "cell_type": "markdown",
   "id": "2ade12e4",
   "metadata": {},
   "source": [
    "### One hot encode your training and validation sets"
   ]
  },
  {
   "cell_type": "code",
   "execution_count": 7,
   "id": "b3c75aac",
   "metadata": {},
   "outputs": [],
   "source": [
    "onecode = (one_hot_encode_seqs(X_train))\n",
    "X_train = np.stack(onecode,axis=0) \n",
    "\n",
    "onecode = (one_hot_encode_seqs(X_test))\n",
    "X_test = np.stack(onecode,axis=0) "
   ]
  },
  {
   "cell_type": "markdown",
   "id": "93c94532",
   "metadata": {},
   "source": [
    "### Train your neural network!"
   ]
  },
  {
   "cell_type": "code",
   "execution_count": 8,
   "id": "fd5c4a31",
   "metadata": {},
   "outputs": [],
   "source": [
    "nn_ar = [{'input_dim': 68, 'output_dim': 16, 'activation' : 'Sigmoid'},\n",
    "         {'input_dim': 16, 'output_dim': 1, 'activation' : 'Sigmoid'}]\n",
    "lr = .1\n",
    "seed = 2\n",
    "batch_size = 30\n",
    "epochs = 10\n",
    "loss_function = \"cross_entropy\"\n",
    "\n",
    "TF_network = NeuralNetwork(nn_ar,lr, seed, batch_size,epochs,loss_function)\n"
   ]
  },
  {
   "cell_type": "code",
   "execution_count": 9,
   "id": "efb4f6d4",
   "metadata": {},
   "outputs": [],
   "source": [
    "per_epoch_loss_train,per_epoch_loss_val = TF_network.fit(X_train, y_train, X_test, y_test)"
   ]
  },
  {
   "cell_type": "markdown",
   "id": "cd4a2fcd",
   "metadata": {},
   "source": [
    "### Plot the training and validation loss curves per epoch"
   ]
  },
  {
   "cell_type": "code",
   "execution_count": 10,
   "id": "01b46969",
   "metadata": {},
   "outputs": [
    {
     "data": {
      "image/png": "[encoded data removed]",
      "text/plain": [
       "<Figure size 432x288 with 1 Axes>"
      ]
     },
     "metadata": {
      "needs_background": "light"
     },
     "output_type": "display_data"
    }
   ],
   "source": [
    "yaxis_t = per_epoch_loss_train\n",
    "xaxis_t = list(range (len(per_epoch_loss_train)))\n",
    "yaxis_v = per_epoch_loss_val\n",
    "xaxis_v = list(range (len(per_epoch_loss_val)))\n",
    "plt.plot(xaxis_t, yaxis_t, label = \"Train loss\")\n",
    "plt.plot(xaxis_v, yaxis_v, label = \"Validation loss\")\n",
    "plt.legend()\n",
    "plt.show()"
   ]
  },
  {
   "cell_type": "markdown",
   "id": "55e8d1fc",
   "metadata": {},
   "source": [
    "### Explain your choice of loss function \n",
    "\n",
    "*Answer*: I decided to use binary cross entropy, because the biological question is if a sequece is a transcription factor or not, thus is a binary classification problem. Aditionally, we used sigmoid as the activation function which is better complemented with this loss function. "
   ]
  },
  {
   "cell_type": "markdown",
   "id": "3a4b4d01",
   "metadata": {},
   "source": [
    "### Explain your choice of hyperparameters \n",
    "\n",
    "Grid searh to find the best parameters."
   ]
  },
  {
   "cell_type": "code",
   "execution_count": 11,
   "id": "4b0107f1",
   "metadata": {},
   "outputs": [],
   "source": [
    "# We are using the same architecture, loss function and seed\n",
    "nn_ar = [{'input_dim': 68, 'output_dim': 16, 'activation' : 'Sigmoid'},\n",
    "         {'input_dim': 16, 'output_dim': 1, 'activation' : 'Sigmoid'}]\n",
    "seed = 32\n",
    "loss_function = \"cross_entropy\"\n",
    "\n",
    "## We are going to change  learning rate, the batch size and the epochs\n",
    "lr_grid = [.5,.05,.005]\n",
    "batch_grid = [5,100,300]\n",
    "epochs = [10, 50, 200]\n",
    "\n",
    "loss_grid = []\n",
    "chosen_param = []\n",
    "\n",
    "for i in lr_grid:\n",
    "    for b in batch_grid:\n",
    "        for e in epochs:\n",
    "            auto_enconder = NeuralNetwork(nn_ar,i, seed, b, e,loss_function)\n",
    "            _,val_loss = auto_enconder.fit(X_train,y_train,X_test,y_test)\n",
    "            loss_grid.append(min((val_loss)))\n",
    "            chosen_param.append([\"Epochs\", e, \"Batch\", b, \"Learning\", i])\n",
    "\n"
   ]
  },
  {
   "cell_type": "code",
   "execution_count": 12,
   "id": "b0f48341",
   "metadata": {},
   "outputs": [
    {
     "data": {
      "text/plain": [
       "['Epochs', 10, 'Batch', 300, 'Learning', 0.05]"
      ]
     },
     "execution_count": 12,
     "metadata": {},
     "output_type": "execute_result"
    }
   ],
   "source": [
    "min_loss = loss_grid.index(min(loss_grid)) ## This is the index of the min loss of all the iterations\n",
    "chosen_param [min_loss] ## This are the chosen parameters"
   ]
  },
  {
   "cell_type": "markdown",
   "id": "0ee57ab2",
   "metadata": {},
   "source": [
    "### Print out the accuracy of your classifier on your validation dataset\n"
   ]
  },
  {
   "cell_type": "code",
   "execution_count": 13,
   "id": "c180ca61",
   "metadata": {},
   "outputs": [],
   "source": [
    "nn_ar = [{'input_dim': 68, 'output_dim': 16, 'activation' : 'Sigmoid'},\n",
    "         {'input_dim': 16, 'output_dim': 1, 'activation' : 'Sigmoid'}]\n",
    "lr = .05\n",
    "seed = 2\n",
    "batch_size = 300\n",
    "epochs = 10\n",
    "loss_function = \"cross_entropy\"\n",
    "\n",
    "TF_network = NeuralNetwork(nn_ar,lr, seed, batch_size,epochs,loss_function)\n",
    "per_epoch_loss_train,per_epoch_loss_val = TF_network.fit(X_train, y_train, X_test, y_test)"
   ]
  },
  {
   "cell_type": "code",
   "execution_count": null,
   "id": "7383042c",
   "metadata": {},
   "outputs": [],
   "source": []
  },
  {
   "cell_type": "code",
   "execution_count": 14,
   "id": "35059171",
   "metadata": {},
   "outputs": [],
   "source": [
    "final_pred, cache = TF_network.predict(X_test)"
   ]
  },
  {
   "cell_type": "code",
   "execution_count": 15,
   "id": "9ff65794",
   "metadata": {},
   "outputs": [],
   "source": [
    "final_pred_binary = np.where(final_pred>0,0,1)"
   ]
  },
  {
   "cell_type": "code",
   "execution_count": 16,
   "id": "5c628679",
   "metadata": {},
   "outputs": [
    {
     "data": {
      "text/plain": [
       "0.7624309392265194"
      ]
     },
     "execution_count": 16,
     "metadata": {},
     "output_type": "execute_result"
    }
   ],
   "source": [
    "sum(final_pred_binary.reshape(len(final_pred_binary),) == y_test)/len(y_test)"
   ]
  },
  {
   "cell_type": "code",
   "execution_count": null,
   "id": "9d699346",
   "metadata": {},
   "outputs": [],
   "source": []
  }
 ],
 "metadata": {
  "kernelspec": {
   "display_name": "Python 3",
   "language": "python",
   "name": "python3"
  },
  "language_info": {
   "codemirror_mode": {
    "name": "ipython",
    "version": 3
   },
   "file_extension": ".py",
   "mimetype": "text/x-python",
   "name": "python",
   "nbconvert_exporter": "python",
   "pygments_lexer": "ipython3",
   "version": "3.8.8"
  }
 },
 "nbformat": 4,
 "nbformat_minor": 5
}
