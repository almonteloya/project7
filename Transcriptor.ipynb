{
 "cells": [
  {
   "cell_type": "markdown",
   "id": "be157dbf",
   "metadata": {},
   "source": [
    "# Transcription Factor Classifier"
   ]
  },
  {
   "cell_type": "code",
   "execution_count": 1,
   "id": "3633c061",
   "metadata": {},
   "outputs": [],
   "source": [
    "from nn.io import read_text_file\n",
    "from nn.io import read_fasta_file\n",
    "from nn.preprocess import sample_seqs\n",
    "from nn.preprocess import one_hot_encode_seqs\n",
    "import numpy as np\n",
    "from nn.nn import NeuralNetwork\n",
    "from sklearn.model_selection import train_test_split\n",
    "\n"
   ]
  },
  {
   "cell_type": "markdown",
   "id": "907243d1",
   "metadata": {},
   "source": [
    "### Use the 'read_text_file' function from preprocess.py to read in the 137 positive Rap1 motif examples"
   ]
  },
  {
   "cell_type": "code",
   "execution_count": 2,
   "id": "f86afd72",
   "metadata": {},
   "outputs": [],
   "source": [
    "rap1_postive = read_text_file(\"data/rap1-lieb-positives.txt\")"
   ]
  },
  {
   "cell_type": "markdown",
   "id": "65748670",
   "metadata": {},
   "source": [
    "### Use the 'read_fasta_file' function to read in all the negative examples from all 1kb upstream in yeast."
   ]
  },
  {
   "cell_type": "code",
   "execution_count": 3,
   "id": "1bf87d42",
   "metadata": {},
   "outputs": [],
   "source": [
    "rap1_negative = read_text_file(\"data/yeast-upstream-1k-negative.fa\")"
   ]
  },
  {
   "cell_type": "code",
   "execution_count": 4,
   "id": "0a51cdbb",
   "metadata": {},
   "outputs": [
    {
     "data": {
      "text/plain": [
       "56908"
      ]
     },
     "execution_count": 4,
     "metadata": {},
     "output_type": "execute_result"
    }
   ],
   "source": [
    "## exploring the data \n",
    "len(rap1_postive[1]) ## each sequence has 17 \n",
    "len(rap1_negative[1]) ## For the naegative they have 60 nucleotides\n",
    "len(rap1_postive) ## 137 sequences in total \n",
    "len(rap1_negative) ## 56908 sequences in total "
   ]
  },
  {
   "cell_type": "markdown",
   "id": "3702f9d8",
   "metadata": {},
   "source": [
    "### Implement a sampling scheme in the 'sample_seq' function in the preprocess.py file"
   ]
  },
  {
   "cell_type": "code",
   "execution_count": 5,
   "id": "408a843a",
   "metadata": {},
   "outputs": [],
   "source": [
    "sampled_seqs,sampled_labels = sample_seqs(rap1_postive,rap1_negative)"
   ]
  },
  {
   "cell_type": "markdown",
   "id": "b048cac4",
   "metadata": {},
   "source": [
    "### Explain in your jupyter notebook why chose the sampling scheme that you did.\n",
    "\n",
    "*Answer*: I decided to use the following sample scheme. First I sub-sample the negative sequences, I settled on keeping a radio 1:3, given that we should't have a extreme imbalance in the classification of our sequences but we still want sufficient information. Finally I wanted to have a standart input so I resolved on all my sequences being 17 nucleotides (the len of the positive seqs)"
   ]
  },
  {
   "cell_type": "markdown",
   "id": "758a0742",
   "metadata": {},
   "source": [
    "### Generate a training and a validation set for training your classifier."
   ]
  },
  {
   "cell_type": "code",
   "execution_count": 6,
   "id": "8929895a",
   "metadata": {},
   "outputs": [],
   "source": [
    "X_train, X_test, y_train, y_test = train_test_split(sampled_seqs, sampled_labels, test_size=0.33, random_state=2)"
   ]
  },
  {
   "cell_type": "markdown",
   "id": "2ade12e4",
   "metadata": {},
   "source": [
    "### One hot encode your training and validation sets"
   ]
  },
  {
   "cell_type": "code",
   "execution_count": 7,
   "id": "b3c75aac",
   "metadata": {},
   "outputs": [],
   "source": [
    "onecode = (one_hot_encode_seqs(X_train))\n",
    "X_train = np.stack(onecode,axis=0) \n",
    "\n",
    "onecode = (one_hot_encode_seqs(X_test))\n",
    "X_test = np.stack(onecode,axis=0) "
   ]
  },
  {
   "cell_type": "markdown",
   "id": "93c94532",
   "metadata": {},
   "source": [
    "### Train your neural network!"
   ]
  },
  {
   "cell_type": "code",
   "execution_count": 19,
   "id": "fd5c4a31",
   "metadata": {},
   "outputs": [],
   "source": [
    "nn_ar = [{'input_dim': 68, 'output_dim': 16, 'activation' : 'Sigmoid'},\n",
    "         {'input_dim': 16, 'output_dim': 1, 'activation' : 'Sigmoid'}]\n",
    "lr = .0001\n",
    "seed = 2\n",
    "batch_size = 30\n",
    "epochs = 50\n",
    "loss_function = \"cross_entropy\"\n",
    "\n",
    "TF_network = NeuralNetwork(nn_ar,lr, seed, batch_size,epochs,loss_function)\n"
   ]
  },
  {
   "cell_type": "code",
   "execution_count": 20,
   "id": "efb4f6d4",
   "metadata": {},
   "outputs": [
    {
     "data": {
      "text/plain": [
       "([0.7790664276887858,\n",
       "  0.5195811038207605,\n",
       "  0.6938054676016341,\n",
       "  0.5212170424043678,\n",
       "  0.7272196750454635,\n",
       "  0.5256244307014363,\n",
       "  0.7594751886369507,\n",
       "  0.531525837609593,\n",
       "  0.7867350558321544,\n",
       "  0.5373014369426881,\n",
       "  0.8070529857477198,\n",
       "  0.5419014123792834,\n",
       "  0.8207152400564283,\n",
       "  0.5450861593706426,\n",
       "  0.8292411606266744,\n",
       "  0.5470989604379695,\n",
       "  0.8343061794622988,\n",
       "  0.5483014276434852,\n",
       "  0.8372252426601824,\n",
       "  0.5489962211426536,\n",
       "  0.8388777168190068,\n",
       "  0.5493900335405666,\n",
       "  0.8398036204621178,\n",
       "  0.5496108316635968,\n",
       "  0.8403194164827062,\n",
       "  0.5497338731627106,\n",
       "  0.8406058215097252,\n",
       "  0.5498022063113894,\n",
       "  0.8407645659905859,\n",
       "  0.5498400846862358,\n",
       "  0.8408524644203272,\n",
       "  0.5498610594345089,\n",
       "  0.8409011076340893,\n",
       "  0.5498726672504568,\n",
       "  0.8409280186311422,\n",
       "  0.549879089171986,\n",
       "  0.8409429041295055,\n",
       "  0.5498826414129917,\n",
       "  0.8409511370906667,\n",
       "  0.5498846061174523,\n",
       "  0.8409556903892408,\n",
       "  0.5498856927143626,\n",
       "  0.8409582085513144,\n",
       "  0.5498862936482058,\n",
       "  0.8409596011767003,\n",
       "  0.5498866259844064,\n",
       "  0.8409603713369671,\n",
       "  0.5498868097755796,\n",
       "  0.8409607972547706,\n",
       "  0.5498869114167002],\n",
       " [0.7474170726305617,\n",
       "  0.6937518151520208,\n",
       "  0.5547604437969667,\n",
       "  0.7245737076634157,\n",
       "  0.5622976729417405,\n",
       "  0.7545338186509095,\n",
       "  0.5709270457428149,\n",
       "  0.779982325970629,\n",
       "  0.57881627123152,\n",
       "  0.7990158041122211,\n",
       "  0.5848895955710904,\n",
       "  0.8118427869298239,\n",
       "  0.5890195815324735,\n",
       "  0.8198583205353962,\n",
       "  0.5916045487331991,\n",
       "  0.8246239393474109,\n",
       "  0.5931406461741375,\n",
       "  0.8273717144040178,\n",
       "  0.5940256221953958,\n",
       "  0.82892762682514,\n",
       "  0.59452642293324,\n",
       "  0.8297995524522463,\n",
       "  0.5948069561811471,\n",
       "  0.8302853181321944,\n",
       "  0.5949632086731339,\n",
       "  0.8305550604080016,\n",
       "  0.5950499625092142,\n",
       "  0.8307045730259407,\n",
       "  0.5950980445957932,\n",
       "  0.8307873608226481,\n",
       "  0.5951246673281664,\n",
       "  0.8308331761492326,\n",
       "  0.595139400166393,\n",
       "  0.8308585227749091,\n",
       "  0.5951475507716858,\n",
       "  0.8308725429926119,\n",
       "  0.5951520591586591,\n",
       "  0.8308802973891588,\n",
       "  0.5951545526772933,\n",
       "  0.8308845860171876,\n",
       "  0.595155931733559,\n",
       "  0.8308869578064622,\n",
       "  0.5951566944079267,\n",
       "  0.8308882694832248,\n",
       "  0.5951571161914079,\n",
       "  0.8308889948767568,\n",
       "  0.5951573494492485,\n",
       "  0.8308893960374683,\n",
       "  0.5951574784466227,\n",
       "  0.8308896178887403])"
      ]
     },
     "execution_count": 20,
     "metadata": {},
     "output_type": "execute_result"
    }
   ],
   "source": [
    "TF_network.fit(X_train, y_train, X_test, y_test)"
   ]
  },
  {
   "cell_type": "code",
   "execution_count": 10,
   "id": "01b46969",
   "metadata": {},
   "outputs": [],
   "source": []
  },
  {
   "cell_type": "code",
   "execution_count": 11,
   "id": "48a6525d",
   "metadata": {},
   "outputs": [
    {
     "data": {
      "text/plain": [
       "(4, 1)"
      ]
     },
     "execution_count": 11,
     "metadata": {},
     "output_type": "execute_result"
    }
   ],
   "source": []
  },
  {
   "cell_type": "code",
   "execution_count": 12,
   "id": "105dcb7f",
   "metadata": {},
   "outputs": [
    {
     "data": {
      "text/plain": [
       "(4, 1)"
      ]
     },
     "execution_count": 12,
     "metadata": {},
     "output_type": "execute_result"
    }
   ],
   "source": []
  }
 ],
 "metadata": {
  "kernelspec": {
   "display_name": "Python 3",
   "language": "python",
   "name": "python3"
  },
  "language_info": {
   "codemirror_mode": {
    "name": "ipython",
    "version": 3
   },
   "file_extension": ".py",
   "mimetype": "text/x-python",
   "name": "python",
   "nbconvert_exporter": "python",
   "pygments_lexer": "ipython3",
   "version": "3.8.8"
  }
 },
 "nbformat": 4,
 "nbformat_minor": 5
}
