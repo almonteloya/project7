{
 "cells": [
  {
   "cell_type": "code",
   "execution_count": 13,
   "id": "de89a4b4",
   "metadata": {},
   "outputs": [],
   "source": [
    "from nn.io import read_text_file\n",
    "from nn.io import read_fasta_file\n",
    "from nn.preprocess import sample_seqs\n",
    "from nn.preprocess import one_hot_encode_seqs\n",
    "import numpy as np\n",
    "from nn.nn2 import NeuralNetwork\n",
    "from sklearn.model_selection import train_test_split"
   ]
  },
  {
   "cell_type": "code",
   "execution_count": 14,
   "id": "571c5270",
   "metadata": {},
   "outputs": [
    {
     "data": {
      "text/plain": [
       "56908"
      ]
     },
     "execution_count": 14,
     "metadata": {},
     "output_type": "execute_result"
    }
   ],
   "source": [
    "rap1_postive = read_text_file(\"data/rap1-lieb-positives.txt\")\n",
    "rap1_negative = read_text_file(\"data/yeast-upstream-1k-negative.fa\")\n",
    "## exploring the data \n",
    "len(rap1_postive[1]) ## each sequence has 17 \n",
    "len(rap1_negative[1]) ## For the naegative they have 60 nucleotides\n",
    "len(rap1_postive) ## 137 sequences in total \n",
    "len(rap1_negative) ## 56908 sequences in total "
   ]
  },
  {
   "cell_type": "code",
   "execution_count": 15,
   "id": "95e60df0",
   "metadata": {},
   "outputs": [],
   "source": [
    "sampled_seqs,sampled_labels = sample_seqs(rap1_postive,rap1_negative)\n",
    "X_train, X_test, y_train, y_test = train_test_split(sampled_seqs, sampled_labels, test_size=0.33, random_state=2)"
   ]
  },
  {
   "cell_type": "code",
   "execution_count": 16,
   "id": "56cfa562",
   "metadata": {},
   "outputs": [],
   "source": [
    "onecode = (one_hot_encode_seqs(X_train))\n",
    "X_train = np.stack(onecode,axis=0) \n",
    "\n",
    "onecode = (one_hot_encode_seqs(X_test))\n",
    "X_test = np.stack(onecode,axis=0) \n",
    "nn_ar = [{'input_dim': 68, 'output_dim': 16, 'activation' : 'Sigmoid'},\n",
    "         {'input_dim': 16, 'output_dim': 1, 'activation' : 'Sigmoid'}]\n",
    "lr = .01\n",
    "seed = 32\n",
    "batch_size = 10\n",
    "epochs = 23\n",
    "loss_function = \"bce\"\n",
    "\n",
    "TF_network = NeuralNetwork(nn_ar,lr, seed, batch_size,epochs,loss_function)\n"
   ]
  },
  {
   "cell_type": "code",
   "execution_count": 17,
   "id": "61a3aafb",
   "metadata": {},
   "outputs": [
    {
     "name": "stdout",
     "output_type": "stream",
     "text": [
      "Training epoch  1 ...\n"
     ]
    },
    {
     "ename": "ValueError",
     "evalue": "all the input arrays must have same number of dimensions, but the array at index 0 has 2 dimension(s) and the array at index 1 has 1 dimension(s)",
     "output_type": "error",
     "traceback": [
      "\u001b[0;31m---------------------------------------------------------------------------\u001b[0m",
      "\u001b[0;31mValueError\u001b[0m                                Traceback (most recent call last)",
      "\u001b[0;32m<ipython-input-17-037557715b7d>\u001b[0m in \u001b[0;36m<module>\u001b[0;34m\u001b[0m\n\u001b[0;32m----> 1\u001b[0;31m \u001b[0mTF_network\u001b[0m\u001b[0;34m.\u001b[0m\u001b[0mfit\u001b[0m\u001b[0;34m(\u001b[0m\u001b[0mX_train\u001b[0m\u001b[0;34m,\u001b[0m \u001b[0my_train\u001b[0m\u001b[0;34m,\u001b[0m \u001b[0mX_test\u001b[0m\u001b[0;34m,\u001b[0m \u001b[0my_test\u001b[0m\u001b[0;34m)\u001b[0m\u001b[0;34m\u001b[0m\u001b[0;34m\u001b[0m\u001b[0m\n\u001b[0m",
      "\u001b[0;32m~/Documents/Algorithms/project7/nn/nn2.py\u001b[0m in \u001b[0;36mfit\u001b[0;34m(self, X_train, y_train, X_val, y_val)\u001b[0m\n\u001b[1;32m    333\u001b[0m \u001b[0;34m\u001b[0m\u001b[0m\n\u001b[1;32m    334\u001b[0m             \u001b[0;31m# Shuffle the training data for each epoch of training\u001b[0m\u001b[0;34m\u001b[0m\u001b[0;34m\u001b[0m\u001b[0;34m\u001b[0m\u001b[0m\n\u001b[0;32m--> 335\u001b[0;31m             \u001b[0mshuffle_arr\u001b[0m \u001b[0;34m=\u001b[0m \u001b[0mnp\u001b[0m\u001b[0;34m.\u001b[0m\u001b[0mconcatenate\u001b[0m\u001b[0;34m(\u001b[0m\u001b[0;34m[\u001b[0m\u001b[0mX_train\u001b[0m\u001b[0;34m,\u001b[0m \u001b[0my_train\u001b[0m\u001b[0;34m]\u001b[0m\u001b[0;34m,\u001b[0m \u001b[0maxis\u001b[0m\u001b[0;34m=\u001b[0m\u001b[0;36m1\u001b[0m\u001b[0;34m)\u001b[0m\u001b[0;34m\u001b[0m\u001b[0;34m\u001b[0m\u001b[0m\n\u001b[0m\u001b[1;32m    336\u001b[0m             \u001b[0mnp\u001b[0m\u001b[0;34m.\u001b[0m\u001b[0mrandom\u001b[0m\u001b[0;34m.\u001b[0m\u001b[0mshuffle\u001b[0m\u001b[0;34m(\u001b[0m\u001b[0mshuffle_arr\u001b[0m\u001b[0;34m)\u001b[0m\u001b[0;34m\u001b[0m\u001b[0;34m\u001b[0m\u001b[0m\n\u001b[1;32m    337\u001b[0m \u001b[0;34m\u001b[0m\u001b[0m\n",
      "\u001b[0;32m<__array_function__ internals>\u001b[0m in \u001b[0;36mconcatenate\u001b[0;34m(*args, **kwargs)\u001b[0m\n",
      "\u001b[0;31mValueError\u001b[0m: all the input arrays must have same number of dimensions, but the array at index 0 has 2 dimension(s) and the array at index 1 has 1 dimension(s)"
     ]
    }
   ],
   "source": [
    "TF_network.fit(X_train, y_train, X_test, y_test)"
   ]
  },
  {
   "cell_type": "code",
   "execution_count": 19,
   "id": "9f7148b4",
   "metadata": {},
   "outputs": [
    {
     "data": {
      "text/plain": [
       "(367,)"
      ]
     },
     "execution_count": 19,
     "metadata": {},
     "output_type": "execute_result"
    }
   ],
   "source": []
  }
 ],
 "metadata": {
  "kernelspec": {
   "display_name": "Python 3",
   "language": "python",
   "name": "python3"
  },
  "language_info": {
   "codemirror_mode": {
    "name": "ipython",
    "version": 3
   },
   "file_extension": ".py",
   "mimetype": "text/x-python",
   "name": "python",
   "nbconvert_exporter": "python",
   "pygments_lexer": "ipython3",
   "version": "3.8.8"
  }
 },
 "nbformat": 4,
 "nbformat_minor": 5
}
