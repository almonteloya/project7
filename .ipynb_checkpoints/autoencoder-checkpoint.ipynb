{
 "cells": [
  {
   "cell_type": "markdown",
   "id": "01a3c42a",
   "metadata": {},
   "source": [
    "# AUTOENCODER"
   ]
  },
  {
   "cell_type": "code",
   "execution_count": 1,
   "id": "ff3c84af",
   "metadata": {},
   "outputs": [],
   "source": [
    "import numpy as np\n",
    "from typing import List, Dict, Tuple, Union\n",
    "from numpy.typing import ArrayLike\n",
    "from nn.nn import NeuralNetwork\n",
    "from sklearn.datasets import load_digits\n",
    "from sklearn.model_selection import train_test_split\n",
    "import matplotlib.pyplot as plt\n"
   ]
  },
  {
   "cell_type": "markdown",
   "id": "a52c66b5",
   "metadata": {},
   "source": [
    "### Generate an instance of your NeuralNetwork class for the 64x16x64 autoencoder"
   ]
  },
  {
   "cell_type": "code",
   "execution_count": 2,
   "id": "4ad3684d",
   "metadata": {},
   "outputs": [],
   "source": [
    "nn_ar = [{'input_dim': 64, 'output_dim': 16, 'activation' : 'Relu'}, {'input_dim': 16, 'output_dim': 64, 'activation': 'Relu'}]\n",
    "lr = .01\n",
    "seed = 32\n",
    "batch_size = 100\n",
    "epochs = 23\n",
    "loss_function = \"mse\"\n",
    "\n",
    "auto_enconder = NeuralNetwork(nn_ar,lr, seed, batch_size,epochs,loss_function)\n"
   ]
  },
  {
   "cell_type": "markdown",
   "id": "d35cb802",
   "metadata": {},
   "source": [
    "### Read in toy dataset 'digits' from sklearn using digits = sklearn.datasets.load_digits()"
   ]
  },
  {
   "cell_type": "code",
   "execution_count": 3,
   "id": "cb4220c2",
   "metadata": {},
   "outputs": [],
   "source": [
    "digits = load_digits()"
   ]
  },
  {
   "cell_type": "markdown",
   "id": "694bac7c",
   "metadata": {},
   "source": [
    "### Split the digits dataset into a train and a validation set"
   ]
  },
  {
   "cell_type": "code",
   "execution_count": 4,
   "id": "441aab9d",
   "metadata": {},
   "outputs": [],
   "source": [
    "X = digits.data\n",
    "X_train, X_test, y_train, y_test = train_test_split(X, X, test_size=0.33, random_state=2)"
   ]
  },
  {
   "cell_type": "markdown",
   "id": "b11454b3",
   "metadata": {},
   "source": [
    "### Train your autoencoder on the train split of your digits dataset"
   ]
  },
  {
   "cell_type": "code",
   "execution_count": 5,
   "id": "51ef56ad",
   "metadata": {},
   "outputs": [],
   "source": [
    "per_epoch_loss_train,per_epoch_loss_val = auto_enconder.fit(X_train,y_train,X_test,y_test)"
   ]
  },
  {
   "cell_type": "markdown",
   "id": "bfc1f1ff",
   "metadata": {},
   "source": [
    "### Plot your training and validation loss per epoch"
   ]
  },
  {
   "cell_type": "code",
   "execution_count": 6,
   "id": "da83c70d",
   "metadata": {},
   "outputs": [
    {
     "data": {
      "image/png": "[encoded data removed]",
      "text/plain": [
       "<Figure size 432x288 with 1 Axes>"
      ]
     },
     "metadata": {
      "needs_background": "light"
     },
     "output_type": "display_data"
    }
   ],
   "source": [
    "yaxis_t = per_epoch_loss_train\n",
    "xaxis_t = list(range (len(per_epoch_loss_train)))\n",
    "yaxis_v = per_epoch_loss_val\n",
    "xaxis_v = list(range (len(per_epoch_loss_val)))\n",
    "plt.plot(xaxis_t, yaxis_t, label = \"Train loss\")\n",
    "plt.plot(xaxis_v, yaxis_v, label = \"Validation loss\")\n",
    "plt.legend()\n",
    "plt.show()"
   ]
  },
  {
   "cell_type": "markdown",
   "id": "e5691df4",
   "metadata": {},
   "source": [
    "### Trying different parameters\n",
    "\n",
    "We are doing grid search for the hyperparameters"
   ]
  },
  {
   "cell_type": "code",
   "execution_count": 7,
   "id": "588ecce2",
   "metadata": {},
   "outputs": [],
   "source": [
    "# We are using the same architecture, loss function and seed\n",
    "nn_ar = [{'input_dim': 64, 'output_dim': 16, 'activation' : 'Relu'}, {'input_dim': 16, 'output_dim': 64, 'activation': 'Relu'}]\n",
    "seed = 32\n",
    "loss_function = \"mse\"\n",
    "\n",
    "## We are going to change  learning rate, the batch size and the epochs\n",
    "lr_grid = [.5,.05,.005]\n",
    "batch_grid = [5,50,500]\n",
    "epochs = [10, 100, 400]\n",
    "\n",
    "loss_grid = []\n",
    "chosen_param = []\n",
    "\n",
    "for i in lr_grid:\n",
    "    for b in batch_grid:\n",
    "        for e in epochs:\n",
    "            auto_enconder = NeuralNetwork(nn_ar,i, seed, b, e,loss_function)\n",
    "            _,val_loss = auto_enconder.fit(X_train,y_train,X_test,y_test)\n",
    "            loss_grid.append(min((val_loss)))\n",
    "            chosen_param.append([e,b,i])\n",
    "\n"
   ]
  },
  {
   "cell_type": "code",
   "execution_count": 8,
   "id": "1f879bf7",
   "metadata": {},
   "outputs": [
    {
     "data": {
      "text/plain": [
       "[400, 50, 0.005]"
      ]
     },
     "execution_count": 8,
     "metadata": {},
     "output_type": "execute_result"
    }
   ],
   "source": [
    "min_loss = loss_grid.index(min(loss_grid)) ## This is the index of the min loss of all the iterations\n",
    "chosen_param [min_loss] ## This are the chosen parameters"
   ]
  },
  {
   "cell_type": "markdown",
   "id": "549af72a",
   "metadata": {},
   "source": [
    "Based on this small grid search I think this are the appropiate hyperparameters. \n",
    "\n",
    "The other parameters like the activation and the loss functions were chosen because they were the ones more fitted for the question. We are doing a continous prediction so mean square error seems like a appropiate choice ."
   ]
  },
  {
   "cell_type": "markdown",
   "id": "1f4a83d3",
   "metadata": {},
   "source": [
    "### Quantify your average reconstruction"
   ]
  },
  {
   "cell_type": "code",
   "execution_count": 9,
   "id": "e2f186ed",
   "metadata": {},
   "outputs": [],
   "source": [
    "## We use the best parametes \n",
    "auto_enconder = NeuralNetwork(nn_ar,.05, seed, 500,10,loss_function)\n",
    "train_loss,val_loss = auto_enconder.fit(X_train,y_train,X_test,y_test)"
   ]
  },
  {
   "cell_type": "code",
   "execution_count": 10,
   "id": "f9445027",
   "metadata": {},
   "outputs": [],
   "source": [
    "y_pred,cache = auto_enconder.predict(X_test) ## predict "
   ]
  },
  {
   "cell_type": "code",
   "execution_count": 11,
   "id": "5239cf58",
   "metadata": {},
   "outputs": [
    {
     "data": {
      "text/plain": [
       "59.83444874803243"
      ]
     },
     "execution_count": 11,
     "metadata": {},
     "output_type": "execute_result"
    }
   ],
   "source": [
    "all_mse = (sum((y_pred-y_test)**2))/len(y_test) ## mse over the whole data set\n",
    "sum(all_mse)/len(all_mse)"
   ]
  },
  {
   "cell_type": "code",
   "execution_count": null,
   "id": "74850eec",
   "metadata": {},
   "outputs": [],
   "source": []
  },
  {
   "cell_type": "code",
   "execution_count": null,
   "id": "e86c5b3c",
   "metadata": {},
   "outputs": [],
   "source": []
  },
  {
   "cell_type": "code",
   "execution_count": null,
   "id": "167d8088",
   "metadata": {},
   "outputs": [],
   "source": []
  }
 ],
 "metadata": {
  "kernelspec": {
   "display_name": "Python 3",
   "language": "python",
   "name": "python3"
  },
  "language_info": {
   "codemirror_mode": {
    "name": "ipython",
    "version": 3
   },
   "file_extension": ".py",
   "mimetype": "text/x-python",
   "name": "python",
   "nbconvert_exporter": "python",
   "pygments_lexer": "ipython3",
   "version": "3.8.8"
  }
 },
 "nbformat": 4,
 "nbformat_minor": 5
}
