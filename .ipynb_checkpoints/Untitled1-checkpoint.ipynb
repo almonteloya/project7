{
 "cells": [
  {
   "cell_type": "code",
   "execution_count": 1,
   "id": "eeecfbf5",
   "metadata": {},
   "outputs": [],
   "source": [
    "import numpy as np\n",
    "from nn.nn import NeuralNetwork\n",
    "#import pytest \n",
    "from nn.preprocess import one_hot_encode_seqs, sample_seqs\n",
    "from nn.io import read_text_file\n",
    "from nn.io import read_fasta_file\n",
    "\n",
    "# TODO: Write your test functions and associated docstrings below.\n",
    "\n",
    "\n",
    "## First we write a very simple network\n",
    "nn_ar = [{'input_dim': 2, 'output_dim':2, 'activation' : 'Relu'}, {'input_dim': 2, 'output_dim': 1, 'activation': 'Relu'}]\n",
    "nn_ar_sig = [{'input_dim': 2, 'output_dim':2, 'activation' : 'Sigmoid'}, {'input_dim': 2, 'output_dim': 2, 'activation': 'Sigmoid'}]\n",
    "\n",
    "lr = .1\n",
    "seed = 42\n",
    "batch_size = 50\n",
    "epochs = 20\n",
    "loss_function = \"mse\"\n",
    "testpy = NeuralNetwork(nn_ar,lr, seed, batch_size,epochs,loss_function)\n",
    "testpy_sig = NeuralNetwork(nn_ar_sig,lr, seed, batch_size,epochs,loss_function)\n",
    "\n"
   ]
  },
  {
   "cell_type": "code",
   "execution_count": 2,
   "id": "33497150",
   "metadata": {},
   "outputs": [],
   "source": [
    "## Forward"
   ]
  },
  {
   "cell_type": "code",
   "execution_count": 3,
   "id": "d5cbfbcb",
   "metadata": {},
   "outputs": [],
   "source": [
    "X= np.array([[2],[1]])\n",
    "simpleW = np.array([[.5],[-.5]])\n",
    "testpy._param_dict['W1'] = simpleW"
   ]
  },
  {
   "cell_type": "code",
   "execution_count": 4,
   "id": "f27c81af",
   "metadata": {},
   "outputs": [],
   "source": [
    "simpleb = np.array([[1],[.5]])\n",
    "testpy._param_dict['b1'] = simpleb"
   ]
  },
  {
   "cell_type": "code",
   "execution_count": 5,
   "id": "91e315c3",
   "metadata": {},
   "outputs": [],
   "source": [
    "## The formula for Z = A_prev.dot(W_curr.T) + b_curr.T\n",
    "## Did it in R this is the anwer\n",
    "anwer_R = np.array([[ 2. , -0.5],\n",
    "                   [ 1.5,  0. ]])"
   ]
  },
  {
   "cell_type": "code",
   "execution_count": 6,
   "id": "bbd7b75c",
   "metadata": {},
   "outputs": [
    {
     "data": {
      "text/plain": [
       "True"
      ]
     },
     "execution_count": 6,
     "metadata": {},
     "output_type": "execute_result"
    }
   ],
   "source": [
    "A_curr, cache = testpy.forward(X)\n",
    "np.all(cache['Z1'] == anwer_R)"
   ]
  },
  {
   "cell_type": "code",
   "execution_count": 7,
   "id": "b12d10ee",
   "metadata": {},
   "outputs": [
    {
     "data": {
      "text/plain": [
       "True"
      ]
     },
     "execution_count": 7,
     "metadata": {},
     "output_type": "execute_result"
    }
   ],
   "source": [
    "## Single forward\n",
    "## We now have the result for Z \n",
    "## Let's try with Relu \n",
    "## Since we know if its less than 0 then 0 if not then the number from Z\n",
    "annswer_A= np.array([[2. , 0. ],\n",
    "                    [1.5, 0. ]])\n",
    "A_, Z_ = testpy._single_forward(simpleW, simpleb, X, \"Relu\")\n",
    "np.all(A_ == annswer_A)"
   ]
  },
  {
   "cell_type": "code",
   "execution_count": 8,
   "id": "a8134e27",
   "metadata": {},
   "outputs": [
    {
     "data": {
      "text/plain": [
       "{'W1': array([[ 0.04967142, -0.01382643],\n",
       "        [ 0.06476885,  0.15230299]]),\n",
       " 'b1': array([[-0.02341534],\n",
       "        [-0.0234137 ]]),\n",
       " 'W2': array([[ 0.15792128,  0.07674347],\n",
       "        [-0.04694744,  0.054256  ]]),\n",
       " 'b2': array([[-0.04634177],\n",
       "        [-0.04657298]])}"
      ]
     },
     "execution_count": 8,
     "metadata": {},
     "output_type": "execute_result"
    }
   ],
   "source": [
    "testpy_sig._param_dict"
   ]
  },
  {
   "cell_type": "code",
   "execution_count": 9,
   "id": "b249e9a7",
   "metadata": {},
   "outputs": [
    {
     "data": {
      "text/plain": [
       "True"
      ]
     },
     "execution_count": 9,
     "metadata": {},
     "output_type": "execute_result"
    }
   ],
   "source": [
    "## Predict \n",
    " ## since we already proved forward is correct, we need to prove they give the same results \n",
    "y_pred, _ = testpy.predict(X)\n",
    "y_predf,_ = testpy.forward(X)\n",
    "np.all(y_pred == y_predf)"
   ]
  },
  {
   "cell_type": "code",
   "execution_count": 10,
   "id": "b1dbe97e",
   "metadata": {},
   "outputs": [
    {
     "data": {
      "text/plain": [
       "False"
      ]
     },
     "execution_count": 10,
     "metadata": {},
     "output_type": "execute_result"
    }
   ],
   "source": [
    "## _mean_squared_error_backprop\n",
    "## The formula for the derivate is -(2*(y - y_pred)/len(y))\n",
    "y = np.array([[0.5],\n",
    "       [-0.5]])\n",
    "## I used R to caluculate it\n",
    "mse_R = np.array([[-0.3788796],[0.6219598]])\n",
    "mse_py = testpy._mean_squared_error_backprop(y,y_pred)\n",
    "## Since we have a difference of decimals we'll round them\n",
    "mse_R_r = np.around(mse_R, decimals=7) \n",
    "mse_P_r = np.around(mse_py, decimals=7) \n",
    "np.all(mse_R_r - mse_P_r == 0)"
   ]
  },
  {
   "cell_type": "code",
   "execution_count": 11,
   "id": "9781c5c2",
   "metadata": {},
   "outputs": [
    {
     "data": {
      "text/plain": [
       "array([[2. , 0. ],\n",
       "       [1.5, 0. ]])"
      ]
     },
     "execution_count": 11,
     "metadata": {},
     "output_type": "execute_result"
    }
   ],
   "source": [
    "cache['A1']\n"
   ]
  },
  {
   "cell_type": "code",
   "execution_count": 12,
   "id": "0e7246ed",
   "metadata": {},
   "outputs": [
    {
     "data": {
      "text/plain": [
       "array([[-0.23110488],\n",
       "       [ 0.17248362]])"
      ]
     },
     "execution_count": 12,
     "metadata": {},
     "output_type": "execute_result"
    }
   ],
   "source": [
    "## Now back prop \n",
    "y_pred, _ = testpy.predict(X)\n",
    "y = np.array([[0.5], [-0.5]]) \n",
    "\n",
    "dA_prev, dW_curr, db_curr = testpy._single_backprop(\n",
    "W_curr= simpleW,\n",
    "b_curr= simpleb,\n",
    "Z_curr = cache['Z1'],\n",
    "A_prev=  cache['A1'],\n",
    "dA_curr= testpy._mean_squared_error_backprop(y,y_pred),\n",
    "activation_curr= 'Relu')\n",
    "\n",
    "## The formula for Partial derivative of loss function / weight matrix = \n",
    "#  dL_dA_dL_dZ.T.dot(A_prev)\n",
    "\n",
    "#dL_dA_dL_dZ = testpy._relu_backprop(dA_curr,Z_curr)\n",
    "dA_prev"
   ]
  },
  {
   "cell_type": "code",
   "execution_count": 13,
   "id": "6bdbbf57",
   "metadata": {},
   "outputs": [
    {
     "name": "stdout",
     "output_type": "stream",
     "text": [
      "[[2.  0. ]\n",
      " [1.5 0. ]]\n"
     ]
    }
   ],
   "source": [
    "print(cache['A1'])"
   ]
  },
  {
   "cell_type": "code",
   "execution_count": 14,
   "id": "76f4ef5f",
   "metadata": {},
   "outputs": [
    {
     "data": {
      "text/plain": [
       "array([[-0.23110488],\n",
       "       [ 0.17248362]])"
      ]
     },
     "execution_count": 14,
     "metadata": {},
     "output_type": "execute_result"
    }
   ],
   "source": [
    "da= testpy._mean_squared_error_backprop(y,y_pred)\n",
    "derivate = np.array([[ 2. , 0],\n",
    "                   [ 1.5,  1]])\n",
    "\n",
    "(da*derivate).dot(simpleW)"
   ]
  },
  {
   "cell_type": "code",
   "execution_count": 15,
   "id": "3a12e78e",
   "metadata": {},
   "outputs": [
    {
     "data": {
      "text/plain": [
       "array([[2. , 0. ],\n",
       "       [1.5, 1. ]])"
      ]
     },
     "execution_count": 15,
     "metadata": {},
     "output_type": "execute_result"
    }
   ],
   "source": [
    "d = np.where(cache['Z1'] == 0, 1, cache['Z1'] )\n",
    "\n",
    "Z= np.where(cache['Z1'] == 0, 1, cache['Z1'] )\n",
    "np.where(Z > 0, Z, 0)\n"
   ]
  },
  {
   "cell_type": "code",
   "execution_count": 16,
   "id": "baafa140",
   "metadata": {},
   "outputs": [],
   "source": [
    "## First we write a very simple network\n",
    "nn_ar_relu = [{'input_dim': 2, 'output_dim':2, 'activation' : 'Relu'}, {'input_dim': 2, 'output_dim': 2, 'activation': 'Relu'}]\n",
    "nn_ar_sig = [{'input_dim': 2, 'output_dim':2, 'activation' : 'Sigmoid'}, {'input_dim': 2, 'output_dim': 2, 'activation': 'Sigmoid'}]\n",
    "\n",
    "lr = .1\n",
    "seed = 42\n",
    "batch_size = 50\n",
    "epochs = 20\n",
    "loss_function = \"mse\"\n",
    "## Creationg an instance of the network \n",
    "\n",
    "testpy = NeuralNetwork(nn_ar_relu,lr, seed, batch_size,epochs,loss_function)\n",
    "testpy_sig = NeuralNetwork(nn_ar_sig,lr, seed, batch_size,epochs,loss_function)\n",
    "\n",
    "\n",
    "## Create a small random input \n",
    "X = np.array([[2],[1]])\n",
    "\n",
    "## Make a simpler W1 array\n",
    "simpleW = np.array([[.5],[-.5]])\n",
    "# Update the network\n",
    "testpy._param_dict['W1'] = simpleW\n",
    "\n",
    "## Make a simpler b1 array\n",
    "simpleb = np.array([[1],[.5]])\n",
    "# Update the network\n",
    "testpy._param_dict['b1'] = simpleb\n"
   ]
  },
  {
   "cell_type": "code",
   "execution_count": 17,
   "id": "691c9b8d",
   "metadata": {},
   "outputs": [],
   "source": [
    "testpy_sig._param_dict\n",
    "X= np.array([2,1]).reshape(1,2)\n",
    "ypred, _ = testpy_sig.forward(X)\n"
   ]
  },
  {
   "cell_type": "code",
   "execution_count": 18,
   "id": "4756bfed",
   "metadata": {},
   "outputs": [
    {
     "data": {
      "text/plain": [
       "True"
      ]
     },
     "execution_count": 18,
     "metadata": {},
     "output_type": "execute_result"
    }
   ],
   "source": [
    "np.all((1 > ypred) & (ypred > 0))"
   ]
  },
  {
   "cell_type": "code",
   "execution_count": 19,
   "id": "56c7432b",
   "metadata": {},
   "outputs": [],
   "source": [
    "y = np.array([.5,.4,0])\n",
    "y_hat = np.array([.5,.3,.2])\n",
    "R_anwer =  0.5372949\n",
    "bce = testpy_sig._binary_cross_entropy(y,y_hat)\n",
    "R_anwer = np.around(R_anwer, decimals=5) \n",
    "bce = np.around(bce, decimals=5) \n",
    "assert(R_anwer == bce)"
   ]
  },
  {
   "cell_type": "code",
   "execution_count": 20,
   "id": "a8d00bbf",
   "metadata": {},
   "outputs": [
    {
     "data": {
      "text/plain": [
       "[[1, 0, 0, 0, 0, 0, 0, 1, 1, 0, 0, 0], [0, 0, 1, 0, 0, 1, 0, 0]]"
      ]
     },
     "execution_count": 20,
     "metadata": {},
     "output_type": "execute_result"
    }
   ],
   "source": [
    "one_hot_encode_seqs([\"AGA\",\"CT\"])"
   ]
  },
  {
   "cell_type": "code",
   "execution_count": 21,
   "id": "83ef831d",
   "metadata": {},
   "outputs": [
    {
     "data": {
      "text/plain": [
       "array([[ 0.        ],\n",
       "       [-0.15873016],\n",
       "       [ 0.41666667]])"
      ]
     },
     "execution_count": 21,
     "metadata": {},
     "output_type": "execute_result"
    }
   ],
   "source": [
    "y = np.array([[0.5],[0.4], [0]])\n",
    "y_hat = np.array([[.5],[.3],[.2]])\n",
    "y = y.reshape(len(y), 1) ## reshape y so we have the same dimesions\n",
    "dA = (((1-y)/(1-y_hat)) - (y/y_hat)) / len(y)\n",
    "dA"
   ]
  },
  {
   "cell_type": "code",
   "execution_count": 31,
   "id": "27975d56",
   "metadata": {},
   "outputs": [],
   "source": [
    "rap1_postive = read_text_file(\"data/rap1-lieb-positives.txt\")\n",
    "rap1_negative = read_text_file(\"data/yeast-upstream-1k-negative.fa\")\n",
    "\n",
    "sampled_seqs,sampled_labels = sample_seqs(rap1_postive,rap1_negative)"
   ]
  },
  {
   "cell_type": "code",
   "execution_count": 34,
   "id": "51cf4885",
   "metadata": {},
   "outputs": [
    {
     "data": {
      "text/plain": [
       "True"
      ]
     },
     "execution_count": 34,
     "metadata": {},
     "output_type": "execute_result"
    }
   ],
   "source": []
  },
  {
   "cell_type": "code",
   "execution_count": 33,
   "id": "f702c66e",
   "metadata": {},
   "outputs": [
    {
     "data": {
      "text/plain": [
       "1233"
      ]
     },
     "execution_count": 33,
     "metadata": {},
     "output_type": "execute_result"
    }
   ],
   "source": []
  },
  {
   "cell_type": "code",
   "execution_count": null,
   "id": "c6051d8e",
   "metadata": {},
   "outputs": [],
   "source": []
  }
 ],
 "metadata": {
  "kernelspec": {
   "display_name": "Python 3",
   "language": "python",
   "name": "python3"
  },
  "language_info": {
   "codemirror_mode": {
    "name": "ipython",
    "version": 3
   },
   "file_extension": ".py",
   "mimetype": "text/x-python",
   "name": "python",
   "nbconvert_exporter": "python",
   "pygments_lexer": "ipython3",
   "version": "3.8.8"
  }
 },
 "nbformat": 4,
 "nbformat_minor": 5
}
