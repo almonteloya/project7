{
 "cells": [
  {
   "cell_type": "markdown",
   "id": "be157dbf",
   "metadata": {},
   "source": [
    "# Transcription Factor Classifier"
   ]
  },
  {
   "cell_type": "code",
   "execution_count": 1,
   "id": "3633c061",
   "metadata": {},
   "outputs": [],
   "source": [
    "from nn.io import read_text_file\n",
    "from nn.io import read_fasta_file\n",
    "from nn.preprocess import sample_seqs\n",
    "from nn.preprocess import one_hot_encode_seqs\n",
    "import numpy as np\n",
    "from nn.nn import NeuralNetwork\n",
    "from sklearn.model_selection import train_test_split\n",
    "\n"
   ]
  },
  {
   "cell_type": "markdown",
   "id": "907243d1",
   "metadata": {},
   "source": [
    "### Use the 'read_text_file' function from preprocess.py to read in the 137 positive Rap1 motif examples"
   ]
  },
  {
   "cell_type": "code",
   "execution_count": 2,
   "id": "f86afd72",
   "metadata": {},
   "outputs": [],
   "source": [
    "rap1_postive = read_text_file(\"data/rap1-lieb-positives.txt\")"
   ]
  },
  {
   "cell_type": "markdown",
   "id": "65748670",
   "metadata": {},
   "source": [
    "### Use the 'read_fasta_file' function to read in all the negative examples from all 1kb upstream in yeast."
   ]
  },
  {
   "cell_type": "code",
   "execution_count": 3,
   "id": "1bf87d42",
   "metadata": {},
   "outputs": [],
   "source": [
    "rap1_negative = read_text_file(\"data/yeast-upstream-1k-negative.fa\")"
   ]
  },
  {
   "cell_type": "code",
   "execution_count": 4,
   "id": "0a51cdbb",
   "metadata": {},
   "outputs": [
    {
     "data": {
      "text/plain": [
       "56908"
      ]
     },
     "execution_count": 4,
     "metadata": {},
     "output_type": "execute_result"
    }
   ],
   "source": [
    "## exploring the data \n",
    "len(rap1_postive[1]) ## each sequence has 17 \n",
    "len(rap1_negative[1]) ## For the naegative they have 60 nucleotides\n",
    "len(rap1_postive) ## 137 sequences in total \n",
    "len(rap1_negative) ## 56908 sequences in total "
   ]
  },
  {
   "cell_type": "markdown",
   "id": "3702f9d8",
   "metadata": {},
   "source": [
    "### Implement a sampling scheme in the 'sample_seq' function in the preprocess.py file"
   ]
  },
  {
   "cell_type": "code",
   "execution_count": 5,
   "id": "408a843a",
   "metadata": {},
   "outputs": [],
   "source": [
    "sampled_seqs,sampled_labels = sample_seqs(rap1_postive,rap1_negative)"
   ]
  },
  {
   "cell_type": "markdown",
   "id": "b048cac4",
   "metadata": {},
   "source": [
    "### Explain in your jupyter notebook why chose the sampling scheme that you did.\n",
    "\n",
    "*Answer*: I decided to use the following sample scheme. First I sub-sample the negative sequences, I settled on keeping a radio 1:3, given that we should't have a extreme imbalance in the classification of our sequences but we still want sufficient information. Finally I wanted to have a standart input so I resolved on all my sequences being 17 nucleotides (the len of the positive seqs)"
   ]
  },
  {
   "cell_type": "markdown",
   "id": "758a0742",
   "metadata": {},
   "source": [
    "### Generate a training and a validation set for training your classifier."
   ]
  },
  {
   "cell_type": "code",
   "execution_count": 6,
   "id": "8929895a",
   "metadata": {},
   "outputs": [],
   "source": [
    "X_train, X_test, y_train, y_test = train_test_split(sampled_seqs, sampled_labels, test_size=0.33, random_state=2)"
   ]
  },
  {
   "cell_type": "markdown",
   "id": "2ade12e4",
   "metadata": {},
   "source": [
    "### One hot encode your training and validation sets"
   ]
  },
  {
   "cell_type": "code",
   "execution_count": 7,
   "id": "b3c75aac",
   "metadata": {},
   "outputs": [],
   "source": [
    "onecode = (one_hot_encode_seqs(X_train))\n",
    "X_train = np.stack(onecode,axis=0) \n",
    "\n",
    "onecode = (one_hot_encode_seqs(X_test))\n",
    "X_test = np.stack(onecode,axis=0) "
   ]
  },
  {
   "cell_type": "markdown",
   "id": "93c94532",
   "metadata": {},
   "source": [
    "### Train your neural network!"
   ]
  },
  {
   "cell_type": "code",
   "execution_count": 8,
   "id": "fd5c4a31",
   "metadata": {},
   "outputs": [],
   "source": [
    "nn_ar = [{'input_dim': 68, 'output_dim': 16, 'activation' : 'Sigmoid'},\n",
    "         {'input_dim': 16, 'output_dim': 2, 'activation' : 'Sigmoid'}]\n",
    "lr = .01\n",
    "seed = 32\n",
    "batch_size = 10\n",
    "epochs = 23\n",
    "loss_function = \"cross_entropy\"\n",
    "\n",
    "TF_network = NeuralNetwork(nn_ar,lr, seed, batch_size,epochs,loss_function)\n"
   ]
  },
  {
   "cell_type": "code",
   "execution_count": 9,
   "id": "efb4f6d4",
   "metadata": {},
   "outputs": [
    {
     "ename": "ValueError",
     "evalue": "operands could not be broadcast together with shapes (10,) (10,2) ",
     "output_type": "error",
     "traceback": [
      "\u001b[0;31m---------------------------------------------------------------------------\u001b[0m",
      "\u001b[0;31mValueError\u001b[0m                                Traceback (most recent call last)",
      "\u001b[0;32m<ipython-input-9-037557715b7d>\u001b[0m in \u001b[0;36m<module>\u001b[0;34m\u001b[0m\n\u001b[0;32m----> 1\u001b[0;31m \u001b[0mTF_network\u001b[0m\u001b[0;34m.\u001b[0m\u001b[0mfit\u001b[0m\u001b[0;34m(\u001b[0m\u001b[0mX_train\u001b[0m\u001b[0;34m,\u001b[0m \u001b[0my_train\u001b[0m\u001b[0;34m,\u001b[0m \u001b[0mX_test\u001b[0m\u001b[0;34m,\u001b[0m \u001b[0my_test\u001b[0m\u001b[0;34m)\u001b[0m\u001b[0;34m\u001b[0m\u001b[0;34m\u001b[0m\u001b[0m\n\u001b[0m",
      "\u001b[0;32m~/Documents/Algorithms/project7/nn/nn.py\u001b[0m in \u001b[0;36mfit\u001b[0;34m(self, X_train, y_train, X_val, y_val)\u001b[0m\n\u001b[1;32m    322\u001b[0m                 \u001b[0my_pred\u001b[0m\u001b[0;34m,\u001b[0m\u001b[0mcache\u001b[0m \u001b[0;34m=\u001b[0m \u001b[0mself\u001b[0m\u001b[0;34m.\u001b[0m\u001b[0mforward\u001b[0m\u001b[0;34m(\u001b[0m\u001b[0mX_train\u001b[0m\u001b[0;34m)\u001b[0m\u001b[0;34m\u001b[0m\u001b[0;34m\u001b[0m\u001b[0m\n\u001b[1;32m    323\u001b[0m                 \u001b[0;31m# Calculating loss using the according loss function\u001b[0m\u001b[0;34m\u001b[0m\u001b[0;34m\u001b[0m\u001b[0;34m\u001b[0m\u001b[0m\n\u001b[0;32m--> 324\u001b[0;31m                 \u001b[0mloss_train\u001b[0m \u001b[0;34m=\u001b[0m \u001b[0mself\u001b[0m\u001b[0;34m.\u001b[0m\u001b[0m_loss_function\u001b[0m\u001b[0;34m(\u001b[0m\u001b[0my_train\u001b[0m\u001b[0;34m,\u001b[0m\u001b[0my_pred\u001b[0m\u001b[0;34m)\u001b[0m\u001b[0;34m\u001b[0m\u001b[0;34m\u001b[0m\u001b[0m\n\u001b[0m\u001b[1;32m    325\u001b[0m                 \u001b[0;31m# Add the value to loss history record\u001b[0m\u001b[0;34m\u001b[0m\u001b[0;34m\u001b[0m\u001b[0;34m\u001b[0m\u001b[0m\n\u001b[1;32m    326\u001b[0m                 \u001b[0mbatch_train_L\u001b[0m\u001b[0;34m.\u001b[0m\u001b[0mappend\u001b[0m\u001b[0;34m(\u001b[0m\u001b[0mloss_train\u001b[0m\u001b[0;34m)\u001b[0m\u001b[0;34m\u001b[0m\u001b[0;34m\u001b[0m\u001b[0m\n",
      "\u001b[0;32m~/Documents/Algorithms/project7/nn/nn.py\u001b[0m in \u001b[0;36m_loss_function\u001b[0;34m(self, y, y_hat)\u001b[0m\n\u001b[1;32m    550\u001b[0m             \u001b[0mdA_curr\u001b[0m \u001b[0;34m=\u001b[0m \u001b[0mself\u001b[0m\u001b[0;34m.\u001b[0m\u001b[0m_mean_squared_error\u001b[0m\u001b[0;34m(\u001b[0m\u001b[0my\u001b[0m\u001b[0;34m,\u001b[0m \u001b[0my_hat\u001b[0m\u001b[0;34m)\u001b[0m\u001b[0;34m\u001b[0m\u001b[0;34m\u001b[0m\u001b[0m\n\u001b[1;32m    551\u001b[0m         \u001b[0;32melse\u001b[0m\u001b[0;34m:\u001b[0m\u001b[0;34m\u001b[0m\u001b[0;34m\u001b[0m\u001b[0m\n\u001b[0;32m--> 552\u001b[0;31m             \u001b[0mdA_curr\u001b[0m \u001b[0;34m=\u001b[0m \u001b[0mself\u001b[0m\u001b[0;34m.\u001b[0m\u001b[0m_binary_cross_entropy\u001b[0m\u001b[0;34m(\u001b[0m\u001b[0my\u001b[0m\u001b[0;34m,\u001b[0m \u001b[0my_hat\u001b[0m\u001b[0;34m)\u001b[0m\u001b[0;34m\u001b[0m\u001b[0;34m\u001b[0m\u001b[0m\n\u001b[0m\u001b[1;32m    553\u001b[0m \u001b[0;34m\u001b[0m\u001b[0m\n\u001b[1;32m    554\u001b[0m         \u001b[0;32mreturn\u001b[0m \u001b[0mdA_curr\u001b[0m\u001b[0;34m\u001b[0m\u001b[0;34m\u001b[0m\u001b[0m\n",
      "\u001b[0;32m~/Documents/Algorithms/project7/nn/nn.py\u001b[0m in \u001b[0;36m_binary_cross_entropy\u001b[0;34m(self, y, y_hat)\u001b[0m\n\u001b[1;32m    450\u001b[0m \u001b[0;34m\u001b[0m\u001b[0m\n\u001b[1;32m    451\u001b[0m         \u001b[0mepsilon\u001b[0m \u001b[0;34m=\u001b[0m \u001b[0;36m1e-5\u001b[0m\u001b[0;34m\u001b[0m\u001b[0;34m\u001b[0m\u001b[0m\n\u001b[0;32m--> 452\u001b[0;31m         \u001b[0my_0\u001b[0m \u001b[0;34m=\u001b[0m \u001b[0;34m(\u001b[0m\u001b[0;36m1\u001b[0m\u001b[0;34m-\u001b[0m\u001b[0my\u001b[0m\u001b[0;34m)\u001b[0m \u001b[0;34m*\u001b[0m \u001b[0mnp\u001b[0m\u001b[0;34m.\u001b[0m\u001b[0mlog\u001b[0m\u001b[0;34m(\u001b[0m\u001b[0;36m1\u001b[0m\u001b[0;34m-\u001b[0m\u001b[0my_hat\u001b[0m \u001b[0;34m+\u001b[0m \u001b[0mepsilon\u001b[0m\u001b[0;34m)\u001b[0m      \u001b[0;31m# Values where y=1 will be 0\u001b[0m\u001b[0;34m\u001b[0m\u001b[0;34m\u001b[0m\u001b[0m\n\u001b[0m\u001b[1;32m    453\u001b[0m         \u001b[0my_1\u001b[0m \u001b[0;34m=\u001b[0m \u001b[0my\u001b[0m \u001b[0;34m*\u001b[0m \u001b[0mnp\u001b[0m\u001b[0;34m.\u001b[0m\u001b[0mlog\u001b[0m\u001b[0;34m(\u001b[0m\u001b[0my_hat\u001b[0m \u001b[0;34m+\u001b[0m \u001b[0mepsilon\u001b[0m\u001b[0;34m)\u001b[0m            \u001b[0;31m# Values where y=0 will be 0\u001b[0m\u001b[0;34m\u001b[0m\u001b[0;34m\u001b[0m\u001b[0m\n\u001b[1;32m    454\u001b[0m         \u001b[0mloss\u001b[0m \u001b[0;34m=\u001b[0m \u001b[0;34m-\u001b[0m\u001b[0;36m1\u001b[0m \u001b[0;34m*\u001b[0m \u001b[0mnp\u001b[0m\u001b[0;34m.\u001b[0m\u001b[0mmean\u001b[0m\u001b[0;34m(\u001b[0m\u001b[0my_0\u001b[0m \u001b[0;34m+\u001b[0m \u001b[0my_1\u001b[0m\u001b[0;34m,\u001b[0m \u001b[0maxis\u001b[0m\u001b[0;34m=\u001b[0m\u001b[0;36m0\u001b[0m\u001b[0;34m)\u001b[0m\u001b[0;34m\u001b[0m\u001b[0;34m\u001b[0m\u001b[0m\n",
      "\u001b[0;31mValueError\u001b[0m: operands could not be broadcast together with shapes (10,) (10,2) "
     ]
    }
   ],
   "source": [
    "TF_network.fit(X_train, y_train, X_test, y_test)"
   ]
  },
  {
   "cell_type": "code",
   "execution_count": null,
   "id": "01b46969",
   "metadata": {},
   "outputs": [],
   "source": []
  }
 ],
 "metadata": {
  "kernelspec": {
   "display_name": "Python 3",
   "language": "python",
   "name": "python3"
  },
  "language_info": {
   "codemirror_mode": {
    "name": "ipython",
    "version": 3
   },
   "file_extension": ".py",
   "mimetype": "text/x-python",
   "name": "python",
   "nbconvert_exporter": "python",
   "pygments_lexer": "ipython3",
   "version": "3.8.8"
  }
 },
 "nbformat": 4,
 "nbformat_minor": 5
}
